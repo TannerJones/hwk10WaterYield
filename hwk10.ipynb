{
 "metadata": {
  "name": "",
  "signature": "sha256:72cdc65baf21407a0677480947cd3bf1f9a37070f877a0487c9a1834b1b0d35e"
 },
 "nbformat": 3,
 "nbformat_minor": 0,
 "worksheets": [
  {
   "cells": [
    {
     "cell_type": "heading",
     "level": 1,
     "metadata": {},
     "source": [
      "Task 2:"
     ]
    },
    {
     "cell_type": "heading",
     "level": 4,
     "metadata": {},
     "source": [
      "Function checking the projection and changing the projection where appropriate"
     ]
    },
    {
     "cell_type": "raw",
     "metadata": {},
     "source": [
      "We all worked on these functions in class and decided to combine the two functions into one function. Whoever had the main function uploaded the bulk of the code that we all worked on."
     ]
    },
    {
     "cell_type": "raw",
     "metadata": {},
     "source": [
      "\n",
      "#Import arcpy and env so the ArcGIS python functions can be used and the workspace can be set.\n",
      "import arcpy\n",
      "from arcpy import env\n",
      "from arcpy.sa import *\n",
      "env.overwriteOutput = True\n",
      "env.workspace = \"F:/NatCap/Data/rasters/\"\n",
      "\n",
      "#Take all the rasters in the workspace and put them in a list.\n",
      "rasterList = arcpy.ListRasters()\n",
      "env.workspace = \"F:/NatCap/Data/shapefiles/\"\n",
      "#Take all the shapefiles in the workspace and put them in a list.\n",
      "shpList = arcpy.ListFeatureClasses()\n",
      "#set the feature class to the study area\n",
      "\n",
      "env.workspace = \"F:/NatCap/Data/\"\n",
      "fc = \"shapefiles/studyArea.shp\"\n",
      "\n",
      "#Get the projection of the study area\n",
      "shpPrj = arcpy.Describe(fc).spatialReference\n",
      "\n",
      "#env.workspace = \"F:/NatCap/Data/\"\n",
      "#If there is not a folder called rasterOutput, then this will create one.\n",
      "if arcpy.Exists(\"rasterOutput\") == False:\n",
      "    arcpy.CreateFolder_management(\"F:/NatCap/Data/\", \"rasterOutput\")\n",
      "#If there is not a folder called shpOutput, then this will create one.\n",
      "if arcpy.Exists(\"shpOutput\") == False:\n",
      "    arcpy.CreateFolder_management(\"F:/NatCap/Data/\", \"shpOutput\")\n",
      "\n",
      "arcpy.CheckOutExtension(\"Spatial\")\n",
      "\n",
      "#This for loop will go through rasterList and check to see if it has the same projection as the study area. If the\n",
      "#projections are not the same, the raster will be given the same projection as the study area. Then the raster will be\n",
      "#clipped so it has the same extent as the study area. The result will be save to the rasters folder.\n",
      "for raster in rasterList:\n",
      "    if arcpy.Describe(raster).spatialReference != shpPrj:\n",
      "        arcpy.ProjectRaster_management(raster, \"F:/NatCap/Data/rasterOutput/reprojected_\" + raster, shpPrj)\n",
      "    ExtractByPolygon(raster, fc)\n",
      "    arcpy.Clip_management(raster, fc, \"clip_\" + raster + \".bil\")\n",
      "    raster.save(\"F:/NatCap/Data/rasters\")\n",
      "\n",
      "#This for loop will go through shpList and check to see if it has the same projection as the study area. If the\n",
      "#projections are not the same, the shapefile will be given the same projection as the study area. Then the shapefile\n",
      "#will be clipped so it has the same extent as the study area. The result will be save to the shapefiles folder.\n",
      "for shp in shpList:\n",
      "    if arcpy.Describe(shp).spatialReference != shpPrj:\n",
      "        arcpy.Project_management(shp, \"F:/NatCap/Data/shapefiles/reprojected_\" + shp, shpPrj)\n",
      "    arcpy.Clip_analysis(shp, fc, \"F:/NatCap/Data/shpOutput/\" + shp + \"_clip.shp\")\n",
      "#These for loops will go through each field, validate the names then assign the new validated name to each field.\\n\",\n",
      "for field in rasterList:\n",
      "    descField = describe.field\n",
      "    if descField.name != ValidateFieldName(field)\n",
      "        descField.name = ValidateFieldName(field)\n",
      "\n",
      "for shp in shpList:\n",
      "    descField = describe.field\\n\",\n",
      "    if descField.name != ValidateFieldName(shp):\n",
      "        descField.name = ValidateFieldName(shp)\n",
      "\n",
      "#need to set the workspace for the tables\n",
      "env.workspace = \"Z:\\NatCap\\Data\\Tables\"\n",
      "#read in the list of tables\n",
      "tablelist = arcpy.ListTables()\n",
      "#reads in the tables and validates the name by saving to a gdb\n",
      "for tables in tablelist:\n",
      "    #validates the output name\n",
      "    outtables = arcpy.ValidateTableName(tables)\n",
      "    #this is a new addition to our file stucture\n",
      "    env.workspace = \"Z:\\NatCap\\Data\\Tables\\\\tables.gdb\"\n",
      "    arcpy.CopyFeatures_management(tables, outtables)"
     ]
    }
   ],
   "metadata": {}
  }
 ]
}