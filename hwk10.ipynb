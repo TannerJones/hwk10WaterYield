{
 "metadata": {
  "name": "",
  "signature": "sha256:4241da024f1b4b3c5c7ffb242cfa5d3e419683ca8965f0c4fce369792f0da295"
 },
 "nbformat": 3,
 "nbformat_minor": 0,
 "worksheets": [
  {
   "cells": [
    {
     "cell_type": "heading",
     "level": 1,
     "metadata": {},
     "source": [
      "Task 1:"
     ]
    },
    {
     "cell_type": "raw",
     "metadata": {},
     "source": [
      "The fields are: root restricting layer depth, precipitation, plant available water content, average annual reference evapotranspiration, land use/land cover, watersheds, subwatersheds, biophysical table, z parameter, and demand table. The first five on the list are all of the raster datasets required. They measure how much water is going into, coming out of, and being retained in the soil. The watersheds and subwatersheds are polygons that represent the exact location of where and how the water is retained and moves about in the region. The biophysical and demand tables are charts that explain the categories and attributes of the land use/land cover raster dataset. Lastly, the Z parameter measures how much water is expected to fall and be retained in the region in question and places in on a scale from 1 to 30. The Z parameter has been found in two distinct ways, the simpler is multiplying 0.2 and the number of rain events per year. and it could be an accurate depiction of the Z parameter."
     ]
    },
    {
     "cell_type": "heading",
     "level": 1,
     "metadata": {},
     "source": [
      "Task 2:"
     ]
    },
    {
     "cell_type": "raw",
     "metadata": {},
     "source": [
      "#This is our pseudocode, it has changed a little as we merged the two functions\n",
      "Import arcpy\n",
      "# Declare a workspace that contains all 11 of the needed files\n",
      "Import the workspace\n",
      "# Declare separate feature classes for each file then check to make sure they are all in the    # correct projection and units\n",
      "List all feature classes to empty list \u201cfclist\u201d\n",
      "List all rasters to empty list \u201crasterlist\u201d\n",
      "List all tables to empty list \u201ctablelist\u201d\n",
      "FOR every table in tablelist\n",
      "    RUN ValidateTableName function\n",
      "END FOR\n",
      "FOR every non-table-file of inputs\n",
      "    SET non-table-file for describe\n",
      "    IF non-table-file has projection AND units == meters THEN\n",
      "        # Checks the rasters to make sure they have the appropriate name\n",
      "        Check ValidateFieldName\n",
      "    ELSE\n",
      "        PRINT user there is an error\n",
      "    ENDIF\n",
      "END FOR\n",
      "\n",
      "\n",
      "for shp in shpList:\n",
      "    shp = arcpy.ValidateFieldName(shp)\n",
      "    if arcpy.Describe(shp).spatialReference = NULL\n",
      "        print \u201cInvalid projection for \u201d + shp\n",
      "    if arcpy.Describe(shp).spatialReference.linearUnitName != \u201cMETER\u201d\n",
      "        print \u201cInvalid unit for \u201c + shp\n",
      "\n",
      "\n",
      "count = 0\n",
      "if arcpy.Describe(raster).spatialReference.linearUnitName = \u201cMILLIMETER\u201d\n",
      "    count += 1\n",
      "\n",
      "print count\n",
      "\n",
      "print \"The units for \" + rast + \" are\" + arcpy.spatialRef.linearUnitName\n"
     ]
    },
    {
     "cell_type": "raw",
     "metadata": {},
     "source": [
      "Psuedocode: \n",
      "\n",
      "#all this minus tables is not covered, it is now in the other function\n",
      "\n",
      "import arcpy\n",
      "import environment\n",
      "set workspace\n",
      "\n",
      "Read rasters into rasterList\n",
      "Read shapefile into shpList\n",
      "Read tables into tableList\n",
      "read in study area shapefile\n",
      "SET shpprj to projection of study area using describe\n",
      "\n",
      "IF rasterOutput does not exist \n",
      "    create the rasterOutput folder\n",
      "END IF\n",
      "\n",
      "IF shapefileOutput does not exist\n",
      "    create shapefileOutput folder\n",
      "END IF\n",
      "\n",
      "FOR every raster in rasterList\n",
      "    IF projection of raster != projection of study area\n",
      "SET projection to shpprf\n",
      "Clip raster to study area \n",
      "        Save raster to rasterOutput\n",
      "    END IF\n",
      "END FOR\n",
      "\n",
      "FOR every shapefile in shpList\n",
      "    IF projection of shapefile != projection of study area\n",
      "        SET projection to shpprj\n",
      "        Clip to study study area\n",
      "        Save shapefile to shapefileOutput\n",
      "    END IF\n",
      "END FOR"
     ]
    },
    {
     "cell_type": "heading",
     "level": 4,
     "metadata": {},
     "source": [
      "Function checking the projection and changing the projection where appropriate"
     ]
    },
    {
     "cell_type": "raw",
     "metadata": {},
     "source": [
      "We all worked on these functions in class and decided to combine the two functions into one function. Whoever had the main function uploaded the bulk of the code that we all worked on."
     ]
    },
    {
     "cell_type": "raw",
     "metadata": {},
     "source": [
      "\n",
      "#Import arcpy and env so the ArcGIS python functions can be used and the workspace can be set.\n",
      "import arcpy\n",
      "from arcpy import env\n",
      "from arcpy.sa import *\n",
      "env.overwriteOutput = True\n",
      "env.workspace = \"F:/NatCap/Data/rasters/\"\n",
      "\n",
      "#Take all the rasters in the workspace and put them in a list.\n",
      "rasterList = arcpy.ListRasters()\n",
      "env.workspace = \"F:/NatCap/Data/shapefiles/\"\n",
      "#Take all the shapefiles in the workspace and put them in a list.\n",
      "shpList = arcpy.ListFeatureClasses()\n",
      "#set the feature class to the study area\n",
      "\n",
      "env.workspace = \"F:/NatCap/Data/\"\n",
      "fc = \"shapefiles/studyArea.shp\"\n",
      "\n",
      "#Get the projection of the study area\n",
      "shpPrj = arcpy.Describe(fc).spatialReference\n",
      "\n",
      "#env.workspace = \"F:/NatCap/Data/\"\n",
      "#If there is not a folder called rasterOutput, then this will create one.\n",
      "if arcpy.Exists(\"rasterOutput\") == False:\n",
      "    arcpy.CreateFolder_management(\"F:/NatCap/Data/\", \"rasterOutput\")\n",
      "#If there is not a folder called shpOutput, then this will create one.\n",
      "if arcpy.Exists(\"shpOutput\") == False:\n",
      "    arcpy.CreateFolder_management(\"F:/NatCap/Data/\", \"shpOutput\")\n",
      "\n",
      "arcpy.CheckOutExtension(\"Spatial\")\n",
      "\n",
      "#This for loop will go through rasterList and check to see if it has the same projection as the study area. If the\n",
      "#projections are not the same, the raster will be given the same projection as the study area. Then the raster will be\n",
      "#clipped so it has the same extent as the study area. The result will be save to the rasters folder.\n",
      "for raster in rasterList:\n",
      "    if arcpy.Describe(raster).spatialReference != shpPrj:\n",
      "        arcpy.ProjectRaster_management(raster, \"F:/NatCap/Data/rasterOutput/reprojected_\" + raster, shpPrj)\n",
      "    ExtractByPolygon(raster, fc)\n",
      "    arcpy.Clip_management(raster, fc, \"clip_\" + raster + \".bil\")\n",
      "    raster.save(\"F:/NatCap/Data/rasters\")\n",
      "\n",
      "#This for loop will go through shpList and check to see if it has the same projection as the study area. If the\n",
      "#projections are not the same, the shapefile will be given the same projection as the study area. Then the shapefile\n",
      "#will be clipped so it has the same extent as the study area. The result will be save to the shapefiles folder.\n",
      "for shp in shpList:\n",
      "    if arcpy.Describe(shp).spatialReference != shpPrj:\n",
      "        arcpy.Project_management(shp, \"F:/NatCap/Data/shapefiles/reprojected_\" + shp, shpPrj)\n",
      "    arcpy.Clip_analysis(shp, fc, \"F:/NatCap/Data/shpOutput/\" + shp + \"_clip.shp\")\n",
      "#These for loops will go through each field, validate the names then assign the new validated name to each field.\\n\",\n",
      "for field in rasterList:\n",
      "    descField = describe.field\n",
      "    if descField.name != ValidateFieldName(field)\n",
      "        descField.name = ValidateFieldName(field)\n",
      "\n",
      "for shp in shpList:\n",
      "    descField = describe.field\\n\",\n",
      "    if descField.name != ValidateFieldName(shp):\n",
      "        descField.name = ValidateFieldName(shp)\n",
      "\n",
      "#need to set the workspace for the tables\n",
      "env.workspace = \"Z:\\NatCap\\Data\\Tables\"\n",
      "#read in the list of tables\n",
      "tablelist = arcpy.ListTables()\n",
      "#reads in the tables and validates the name by saving to a gdb\n",
      "for tables in tablelist:\n",
      "    #validates the output name\n",
      "    outtables = arcpy.ValidateTableName(tables)\n",
      "    #this is a new addition to our file stucture\n",
      "    env.workspace = \"Z:\\NatCap\\Data\\Tables\\\\tables.gdb\"\n",
      "    arcpy.CopyFeatures_management(tables, outtables)"
     ]
    },
    {
     "cell_type": "heading",
     "level": 6,
     "metadata": {},
     "source": [
      "We are trying hard to understand all this."
     ]
    }
   ],
   "metadata": {}
  }
 ]
}